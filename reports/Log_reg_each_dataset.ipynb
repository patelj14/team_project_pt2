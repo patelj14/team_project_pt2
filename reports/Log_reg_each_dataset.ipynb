{
 "cells": [
  {
   "cell_type": "code",
   "execution_count": 1,
   "metadata": {},
   "outputs": [],
   "source": [
    "import pandas as pd\n",
    "from sklearn.model_selection import train_test_split\n",
    "from sklearn.linear_model import LogisticRegression\n"
   ]
  },
  {
   "cell_type": "code",
   "execution_count": 12,
   "metadata": {},
   "outputs": [],
   "source": [
    "# CHANGE THIS LINE TO INCLUDE THE PROPER PATHS\n",
    "datasets = [pd.read_csv('Users/maraqawalid/python/cardio_train_DL.csv'),pd.read_csv('Users/maraqawalid/python/cardio_train_KS.csv'), pd.read_csv('Users/maraqawalid/python/cardio_train_IEEE.csv')]"
   ]
  },
  {
   "cell_type": "code",
   "execution_count": 18,
   "metadata": {},
   "outputs": [
    {
     "name": "stdout",
     "output_type": "stream",
     "text": [
      "  Training set accuracy: 0.86\n",
      "  Testing set accuracy: 0.80\n",
      "  Training set accuracy: 0.71\n",
      "  Testing set accuracy: 0.71\n",
      "  Training set accuracy: 0.83\n",
      "  Testing set accuracy: 0.84\n"
     ]
    },
    {
     "name": "stderr",
     "output_type": "stream",
     "text": [
      "/opt/miniconda3/envs/dsi_participant/lib/python3.9/site-packages/sklearn/linear_model/_logistic.py:469: ConvergenceWarning: lbfgs failed to converge (status=1):\n",
      "STOP: TOTAL NO. of ITERATIONS REACHED LIMIT.\n",
      "\n",
      "Increase the number of iterations (max_iter) or scale the data as shown in:\n",
      "    https://scikit-learn.org/stable/modules/preprocessing.html\n",
      "Please also refer to the documentation for alternative solver options:\n",
      "    https://scikit-learn.org/stable/modules/linear_model.html#logistic-regression\n",
      "  n_iter_i = _check_optimize_result(\n"
     ]
    }
   ],
   "source": [
    "\n",
    "for i, dataset in enumerate(datasets):\n",
    "   df = datasets[i]\n",
    "    # Split the dataset into features (X) and target (y)\n",
    "   X = df.iloc[:, :-1]  # Features are all columns except the last one\n",
    "   y = df.iloc[:, -1]   # Target is the last column\n",
    "   \n",
    "   X_train, X_test, y_train, y_test = train_test_split(X, y, test_size=0.2, random_state=453)\n",
    "\n",
    "    # Initialize logistic regression model\n",
    "   model = LogisticRegression(max_iter=2000)\n",
    "\n",
    "    # Train the model\n",
    "   model.fit(X_train, y_train)\n",
    "\n",
    "    # Evaluate the model\n",
    "   train_score = model.score(X_train, y_train)\n",
    "   test_score = model.score(X_test, y_test)\n",
    "\n",
    "   print(f\"  Training set accuracy: {train_score:.2f}\")\n",
    "   print(f\"  Testing set accuracy: {test_score:.2f}\")\n",
    "    \n"
   ]
  }
 ],
 "metadata": {
  "kernelspec": {
   "display_name": "dsi_participant",
   "language": "python",
   "name": "python3"
  },
  "language_info": {
   "codemirror_mode": {
    "name": "ipython",
    "version": 3
   },
   "file_extension": ".py",
   "mimetype": "text/x-python",
   "name": "python",
   "nbconvert_exporter": "python",
   "pygments_lexer": "ipython3",
   "version": "3.9.18"
  }
 },
 "nbformat": 4,
 "nbformat_minor": 2
}
